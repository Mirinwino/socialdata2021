{
 "cells": [
  {
   "cell_type": "code",
   "execution_count": 1,
   "id": "dressed-speaking",
   "metadata": {},
   "outputs": [],
   "source": [
    "import utils\n",
    "import pandas as pd\n",
    "from math import radians, cos, sin, asin, sqrt\n",
    "import numpy as np\n",
    "import matplotlib.pyplot as plt"
   ]
  },
  {
   "cell_type": "markdown",
   "id": "qualified-karen",
   "metadata": {},
   "source": [
    "Loading in data (I have made a function for it since we do it every week).   \n",
    "This function also creates datetime rows etc."
   ]
  },
  {
   "cell_type": "code",
   "execution_count": 2,
   "id": "adjacent-geography",
   "metadata": {},
   "outputs": [],
   "source": [
    "data = utils.load_sf('data.csv')\n"
   ]
  },
  {
   "cell_type": "markdown",
   "id": "dated-motorcycle",
   "metadata": {},
   "source": [
    "Remove outlier data. Can be done in many ways by exploring the data and I found this to work just fine."
   ]
  },
  {
   "cell_type": "code",
   "execution_count": 3,
   "id": "every-minute",
   "metadata": {},
   "outputs": [],
   "source": [
    "data = data[(data.Y < 50) & (data.X<-122)]"
   ]
  },
  {
   "cell_type": "markdown",
   "id": "mobile-partner",
   "metadata": {},
   "source": [
    "We need a way to compute the distance between two lonlat coordinates and a common measure is the haversine distance.   \n",
    "Wikilink: https://en.wikipedia.org/wiki/Haversine_formula  \n",
    "I found an implementation in python here: https://stackoverflow.com/questions/4913349/haversine-formula-in-python-bearing-and-distance-between-two-gps-points  "
   ]
  },
  {
   "cell_type": "code",
   "execution_count": 4,
   "id": "former-stylus",
   "metadata": {},
   "outputs": [],
   "source": [
    "def haversine(lon1, lat1, lon2, lat2):\n",
    "    \"\"\"\n",
    "    Calculate the great circle distance between two points \n",
    "    on the earth (specified in decimal degrees)\n",
    "    \"\"\"\n",
    "    # convert decimal degrees to radians \n",
    "    lon1, lat1, lon2, lat2 = map(radians, [lon1, lat1, lon2, lat2])\n",
    "\n",
    "    # haversine formula \n",
    "    dlon = lon2 - lon1 \n",
    "    dlat = lat2 - lat1 \n",
    "    a = sin(dlat/2)**2 + cos(lat1) * cos(lat2) * sin(dlon/2)**2\n",
    "    c = 2 * asin(sqrt(a)) \n",
    "    r = 6371 # Radius of earth in kilometers. Use 3956 for miles\n",
    "    return c * r"
   ]
  },
  {
   "cell_type": "markdown",
   "id": "korean-marijuana",
   "metadata": {},
   "source": [
    "Figuring out the square that incapsulates our data (San Fransisco)"
   ]
  },
  {
   "cell_type": "code",
   "execution_count": 5,
   "id": "indoor-perception",
   "metadata": {},
   "outputs": [],
   "source": [
    "lat_min = data.Y.min()\n",
    "lat_max = data.Y.max()\n",
    "lon_min = data.X.min()\n",
    "lon_max = data.X.max()"
   ]
  },
  {
   "cell_type": "markdown",
   "id": "greater-paragraph",
   "metadata": {},
   "source": [
    "Figuring out how many bins we need to get 100m x 100m bins  \n",
    "Distances along the latitude is always the same even when we change the longitude  \n",
    "We multiply the output by 10 since the function returns the distance in kilometers and we want to know the distance per 100m  "
   ]
  },
  {
   "cell_type": "code",
   "execution_count": 6,
   "id": "satisfactory-pacific",
   "metadata": {},
   "outputs": [
    {
     "name": "stdout",
     "output_type": "stream",
     "text": [
      "Estimated bin amount along the western border of San Fransisco: 125.36317921721148\n",
      "Estimated bin amount along the eastern border of San Fransisco: 125.36317921721148\n"
     ]
    }
   ],
   "source": [
    "print(f\"Estimated bin amount along the western border of San Fransisco: {haversine(lon_min, lat_min, lon_min, lat_max)*10}\") \n",
    "print(f\"Estimated bin amount along the eastern border of San Fransisco: {haversine(lon_max, lat_min, lon_max, lat_max)*10}\")"
   ]
  },
  {
   "cell_type": "markdown",
   "id": "saved-caribbean",
   "metadata": {},
   "source": [
    "Distance along the longitude changes depending on the latitude as also seen below.  \n",
    "Imagine moving 90 degrees when you're close to the north pole. You are not moving a lot of kilometers. Moving 90 degrees a long equator though, that is a long walk!  \n",
    "Since San Fransisco is relatively small in the big picture the difference is not that big as we can see, so we just assume it's flat even though we clearly see it is not.  "
   ]
  },
  {
   "cell_type": "code",
   "execution_count": 7,
   "id": "decent-desire",
   "metadata": {},
   "outputs": [
    {
     "name": "stdout",
     "output_type": "stream",
     "text": [
      "Estimated bin amount along the northern border of San Fransisco: 130.78123566673807\n",
      "Estimated bin amount along the southern border of San Fransisco: 130.9807444161078\n"
     ]
    }
   ],
   "source": [
    "print(f\"Estimated bin amount along the northern border of San Fransisco: {haversine(lon_min, lat_max, lon_max, lat_max)*10}\")\n",
    "print(f\"Estimated bin amount along the southern border of San Fransisco: {haversine(lon_min, lat_min, lon_max, lat_min)*10}\")"
   ]
  },
  {
   "cell_type": "markdown",
   "id": "ordered-daughter",
   "metadata": {},
   "source": [
    "Now we know we need $130\\times125$ bins to get bins of approximately $100m \\times 100m$."
   ]
  },
  {
   "cell_type": "code",
   "execution_count": 8,
   "id": "general-adventure",
   "metadata": {},
   "outputs": [],
   "source": [
    "count, lon, lat = np.histogram2d(data.X, data.Y, bins = [130,125])"
   ]
  },
  {
   "cell_type": "markdown",
   "id": "logical-korean",
   "metadata": {},
   "source": [
    "Just to convince ourselves that what we have done makes sense we plot the counts.  \n",
    "Notice that I have limited the maximum value.\n",
    "I present to you San Fransisco by night! Or looks like it :)"
   ]
  },
  {
   "cell_type": "code",
   "execution_count": 9,
   "id": "hollow-quantity",
   "metadata": {},
   "outputs": [
    {
     "data": {
      "text/plain": [
       "<matplotlib.colorbar.Colorbar at 0x7f8863fb9bb0>"
      ]
     },
     "execution_count": 9,
     "metadata": {},
     "output_type": "execute_result"
    },
    {
     "data": {
      "image/png": "[encoded data removed]",
      "text/plain": [
       "<Figure size 720x720 with 2 Axes>"
      ]
     },
     "metadata": {
      "needs_background": "light"
     },
     "output_type": "display_data"
    }
   ],
   "source": [
    "plt.figure(figsize=(10,10))\n",
    "plt.imshow(count, cmap='hot',vmax=5000)\n",
    "plt.colorbar()"
   ]
  },
  {
   "cell_type": "code",
   "execution_count": null,
   "id": "thrown-context",
   "metadata": {},
   "outputs": [],
   "source": []
  },
  {
   "cell_type": "code",
   "execution_count": null,
   "id": "stopped-christopher",
   "metadata": {},
   "outputs": [],
   "source": []
  }
 ],
 "metadata": {
  "kernelspec": {
   "display_name": "Python 3",
   "language": "python",
   "name": "python3"
  },
  "language_info": {
   "codemirror_mode": {
    "name": "ipython",
    "version": 3
   },
   "file_extension": ".py",
   "mimetype": "text/x-python",
   "name": "python",
   "nbconvert_exporter": "python",
   "pygments_lexer": "ipython3",
   "version": "3.9.1"
  }
 },
 "nbformat": 4,
 "nbformat_minor": 5
}
